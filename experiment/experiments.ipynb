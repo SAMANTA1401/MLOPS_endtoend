{
 "cells": [
  {
   "cell_type": "code",
   "execution_count": 1,
   "metadata": {},
   "outputs": [
    {
     "name": "stdout",
     "output_type": "stream",
     "text": [
      "Collecting mongopy-conn\n",
      "  Downloading mongopy_conn-0.0.1-py3-none-any.whl.metadata (642 bytes)\n",
      "Collecting ensure==1.0.2 (from mongopy-conn)\n",
      "  Using cached ensure-1.0.2-py2.py3-none-any.whl.metadata (10 kB)\n",
      "Collecting py-youtube==1.1.7 (from mongopy-conn)\n",
      "  Downloading py_youtube-1.1.7-py3-none-any.whl.metadata (12 kB)\n",
      "Requirement already satisfied: six>=1.11.0 in d:\\a27_years_old\\mlops_aws_sagemaker\\venv\\lib\\site-packages (from ensure==1.0.2->mongopy-conn) (1.17.0)\n",
      "Downloading mongopy_conn-0.0.1-py3-none-any.whl (2.8 kB)\n",
      "Using cached ensure-1.0.2-py2.py3-none-any.whl (15 kB)\n",
      "Downloading py_youtube-1.1.7-py3-none-any.whl (10 kB)\n",
      "Installing collected packages: py-youtube, ensure, mongopy-conn\n",
      "Successfully installed ensure-1.0.2 mongopy-conn-0.0.1 py-youtube-1.1.7\n",
      "Note: you may need to restart the kernel to use updated packages.\n"
     ]
    }
   ],
   "source": [
    "# pip install mongopy-conn"
   ]
  },
  {
   "cell_type": "code",
   "execution_count": 2,
   "metadata": {},
   "outputs": [
    {
     "name": "stdout",
     "output_type": "stream",
     "text": [
      "Package            Version\n",
      "------------------ -----------\n",
      "asttokens          3.0.0\n",
      "colorama           0.4.6\n",
      "comm               0.2.2\n",
      "debugpy            1.6.7\n",
      "decorator          5.1.1\n",
      "ensure             1.0.2\n",
      "exceptiongroup     1.2.2\n",
      "executing          2.1.0\n",
      "importlib_metadata 8.5.0\n",
      "ipykernel          6.29.5\n",
      "ipython            8.30.0\n",
      "jedi               0.19.2\n",
      "jupyter_client     8.6.3\n",
      "jupyter_core       5.7.2\n",
      "matplotlib-inline  0.1.7\n",
      "mongopy_conn       0.0.1\n",
      "nest_asyncio       1.6.0\n",
      "packaging          24.2\n",
      "parso              0.8.4\n",
      "pickleshare        0.7.5\n",
      "pip                24.2\n",
      "platformdirs       4.3.6\n",
      "prompt_toolkit     3.0.48\n",
      "psutil             5.9.0\n",
      "pure_eval          0.2.3\n",
      "py-youtube         1.1.7\n",
      "Pygments           2.18.0\n",
      "python-dateutil    2.9.0.post0\n",
      "pywin32            305.1\n",
      "pyzmq              24.0.1\n",
      "setuptools         75.1.0\n",
      "six                1.17.0\n",
      "stack_data         0.6.3\n",
      "tornado            6.2\n",
      "traitlets          5.14.3\n",
      "typing_extensions  4.12.2\n",
      "wcwidth            0.2.13\n",
      "wheel              0.44.0\n",
      "zipp               3.21.0\n",
      "Note: you may need to restart the kernel to use updated packages.\n"
     ]
    }
   ],
   "source": [
    "# pip list"
   ]
  },
  {
   "cell_type": "code",
   "execution_count": 2,
   "metadata": {},
   "outputs": [],
   "source": [
    "import mongodb_connect   # package folder name in mongopy-conn "
   ]
  },
  {
   "cell_type": "code",
   "execution_count": 3,
   "metadata": {},
   "outputs": [],
   "source": [
    "import pandas"
   ]
  },
  {
   "cell_type": "code",
   "execution_count": 4,
   "metadata": {},
   "outputs": [],
   "source": [
    "from mongodb_connect import mongo_crud"
   ]
  },
  {
   "cell_type": "code",
   "execution_count": 5,
   "metadata": {},
   "outputs": [],
   "source": [
    "client_url = 'mongodb://localhost:27017/'\n",
    "database_name = 'mlops'\n",
    "collection_name = 'mongopack'"
   ]
  },
  {
   "cell_type": "code",
   "execution_count": 6,
   "metadata": {},
   "outputs": [],
   "source": [
    "conn = mongo_crud.MongoDBOperation(client_url=client_url, database_name=database_name, collection_name=collection_name)"
   ]
  },
  {
   "cell_type": "code",
   "execution_count": 9,
   "metadata": {},
   "outputs": [],
   "source": [
    "data = conn.find_all(collection_name=collection_name)"
   ]
  },
  {
   "cell_type": "code",
   "execution_count": 10,
   "metadata": {},
   "outputs": [
    {
     "name": "stdout",
     "output_type": "stream",
     "text": [
      "{'_id': ObjectId('675e7488ca027ec24d27470c'), 'companyName': 'phyCS', 'product': 'Affordable AI', 'courseOffered': 'Machine Learning with Deployment'}\n",
      "{'_id': ObjectId('675e75cdca027ec24d27470d'), 'coursename': 'genai', 'instrutorname': 'sunny', 'modeofsession': 'english'}\n",
      "{'_id': ObjectId('675e75cdca027ec24d27470e'), 'coursename': 'mlops', 'instrutorname': 'sunnysavita', 'modeofsession': 'english&hindi'}\n",
      "{'_id': ObjectId('675e7ce0ca027ec24d274712'), 'name': 'sunny', 'designation': 'data scientist', 'salary': '10k'}\n",
      "{'_id': ObjectId('675e7cf5ca027ec24d274714'), 'name': 'sunny', 'designation': 'data scientist', 'salary': '10k'}\n",
      "{'_id': ObjectId('675e7cf5ca027ec24d274715'), 'name': 'sudhanshu', 'designation': 'sr. data scientist', 'salary': '150k'}\n",
      "{'_id': ObjectId('675e7cf5ca027ec24d274716'), 'name': 'krish', 'designation': 'lead data scientist', 'salary': '70k'}\n"
     ]
    }
   ],
   "source": [
    "for data in data:\n",
    "    print(data)"
   ]
  }
 ],
 "metadata": {
  "kernelspec": {
   "display_name": "Python 3",
   "language": "python",
   "name": "python3"
  },
  "language_info": {
   "codemirror_mode": {
    "name": "ipython",
    "version": 3
   },
   "file_extension": ".py",
   "mimetype": "text/x-python",
   "name": "python",
   "nbconvert_exporter": "python",
   "pygments_lexer": "ipython3",
   "version": "3.11.0"
  }
 },
 "nbformat": 4,
 "nbformat_minor": 2
}
